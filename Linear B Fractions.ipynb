{
 "cells": [
  {
   "cell_type": "code",
   "execution_count": 4,
   "metadata": {},
   "outputs": [],
   "source": [
    "\n",
    "lb_fractions = [\"𐄿\", \"𐄾\", \"𐄼\", \"𐄽\", \"𐄻\", \"𐄺\", \"𐄹\", \"𐄸\", \"𐄷\", \"𐂎\"]\n"
   ]
  },
  {
   "cell_type": "code",
   "execution_count": 20,
   "metadata": {},
   "outputs": [
    {
     "name": "stdout",
     "output_type": "stream",
     "text": [
      ",𐄾 𐄇,𐄼 𐄇,𐄾 𐄉,𐄸 𐄇,𐄼 𐄈,𐄾 𐄈,𐄿 𐄈,𐄽 𐄇,𐄾 𐄊,𐂎 𐄇,𐄹 𐄈,𐄿 𐄇,𐄼 𐄋,𐄸 𐄋,𐄸 𐄈,𐂎 𐄈,𐄼 𐄉,𐄼 𐄊,𐄼 𐄌,𐄸 𐄊,𐄾 1,𐄸 𐄉,𐄽 𐄈,𐄼 𐄍,𐂎 ,𐄹 𐄉,𐄹 𐄇,𐄼 𐄎,𐄸 1,𐄿 1,𐄾 2,𐄸 𐄌,𐄸 ,𐄸 𐄎,𐄼 2,𐄾 𐄋,𐂎 𐄉,𐄸 𐄍,𐂎 T,𐄼 1,𐄼 𐄏,𐄸 2,𐄿 2,𐂎 𐄊,𐄸 𐄐𐄈,𐂎 𐄐,𐂎 𐄌,𐂎 𐄋,𐄼 ,𐄽 1,𐄺 𐄌,𐄸 𐄑,𐄺 𐄇,𐄼 4,𐄺 𐄉,𐄼 6,𐂎 100,𐄾 ,𐂎 1,𐄺 𐄈,𐄽 2,𐂎 𐄐𐄈,𐄸 4,𐄺 1,𐄿 𐄉,𐂎 𐄒,𐄼 5,𐂎 10,𐄼 3,𐄸 𐄑𐄊,𐄾 3,𐂎 𐄑,𐂎 qs,𐄸 𐄑𐄌,𐂎 2,𐄸 𐄐,𐄸 14,𐄸 𐄑𐄍,𐄸 𐄏,𐄸 𐄑𐄉,𐄼 ⟦,𐂎 𐄎,𐂎 6,𐄺 𐄋,𐄸 𐄒,𐄼 ⌞,𐄺 𐄊,𐂎 𐄍,𐄾 4,𐄿 ⟧,𐄼 7,𐄺 10,𐄸 𐄑𐄈,𐄸 𐄑𐄎,𐄷 𐄇,𐄺 ,𐄸 𐄐𐄍,𐄸 ⟧,𐂎 ⟧,𐄺 4,𐄺 5,𐂎 V,𐂎 𐁀,𐄺 𐄍,𐄸 𐄐𐄎,𐄿 3,𐂎 supra,𐂎 𐄙𐄒𐄍,𐄷 𐄉,𐄹 3,𐂎 𐄚𐄓𐄌,𐂎 𐄚𐄕𐄇,𐄽 ,𐄸 100,𐄷 𐄋,𐄾 5,𐄷 1,𐂎 11,𐄸 𐄓𐄈,𐂎 𐄒𐄋,𐂎 10300,𐂎 𐄙𐄒𐄈,𐄸 ⟦,𐄸 𐄑𐄇,𐄽 𐄉,𐄺 2,𐂎 𐄓,𐄺 6,𐂎 𐄐𐄋,𐂎 8,𐄺 ⌞,𐄺 X,𐂎 ⌞,𐂎 𐄙,𐄸 𐄗,𐄸 𐀐,𐄸 𐂡,𐄸 𐀕,𐄽 ⟧,𐄸 𐄐𐄋,𐄺 𐄐𐄈,𐄺 𐄑,𐂎 𐄓𐄊,𐂎 𐄔𐄎,𐂎 𐄑𐄇,𐄸 𐄐𐄉,𐂎 4,𐂎 ⟦,𐄸 𐄓𐄍,𐄸 𐄖,𐂎 21,𐂎 400,𐄾 ?,𐄸 𐄒𐄊,𐂎 5,𐄷 𐄔𐄈,𐄸 𐄔𐄎,𐂎 16,𐂎 𐄐𐄊,𐂎 𐄗𐄎,𐂎 130,𐄸 5,𐄸 3,𐂎 42,𐂎 22,𐂎 50,𐄸 6,𐂎 𐄐𐄇,𐄹 2,𐄹 1,𐄸 ⌞,𐄷 𐄒𐄊,𐂎 𐀟,𐄸 130,𐄸 60,𐄸 40,𐂎 62,𐄾 6,𐂎 3,𐂎 𐄛𐄈,𐂎 𐄖𐄋,𐂎 𐄙𐄘𐄈,𐄸 28,𐂎 𐄑𐄋,𐂎 23,𐄺 supra,𐄷 𐄈,𐂎 𐄓𐄎,𐂎 500,𐂎 𐄙𐄘𐄋,𐂎 𐄙𐄓𐄉,𐂎 𐄖,𐄺 𐄎,𐂎 30,𐄷 6,𐄾 𐄌,𐄽 𐄊,𐄸 𐄕𐄉,𐄸 qs,𐄸 𐀪,𐂎 𐄜𐄑,𐄺 30,𐄸 𐄓𐄌,𐂎 202,𐄷 𐄊,𐄿 ,𐄷 ,𐂎 80,𐄸 𐄐𐄌,𐄺 𐄏,𐄸 7,𐂎 𐄙𐄗𐄇,𐂎 𐄙𐄈,𐂎 𐄐𐄌,Total\n",
      "Pylos,40,124,89,67,78,46,4,23,43,56,53,1,36,47,22,36,30,31,30,31,2,23,7,21,17,21,8,17,5,1,6,12,1,12,4,9,10,10,10,7,10,3,1,5,5,5,7,7,6,1,6,3,0,5,4,5,0,3,4,0,0,2,3,0,0,3,2,2,0,4,1,2,4,3,3,1,2,3,0,3,2,2,2,3,1,3,0,3,2,0,1,0,2,2,2,0,2,1,2,1,1,2,2,1,2,0,0,2,2,1,0,0,0,1,0,0,1,0,1,0,0,0,0,1,0,0,1,0,1,1,1,1,1,0,0,1,1,1,0,0,0,0,1,1,1,0,1,1,0,1,0,0,1,0,0,0,0,1,0,0,0,0,0,1,0,0,0,1,0,0,1,1,1,0,0,0,0,0,0,0,0,1,1,0,0,0,1,0,0,0,0,0,0,0,0,0,0,1,1,0,0,0,1,0,0,0,1,1,1,0,1,0,0,1,1289\n",
      "Knossos,36,22,27,32,11,12,11,43,3,2,3,6,16,5,20,5,9,7,3,4,4,5,18,5,4,0,13,1,15,1,4,5,15,3,7,3,0,2,2,2,0,5,0,2,3,3,0,1,2,5,1,3,5,1,2,1,5,1,1,5,2,2,2,5,2,1,2,2,2,0,0,1,0,1,1,3,1,0,3,0,0,1,1,0,2,0,3,0,1,1,2,3,0,0,0,2,0,0,0,1,1,0,0,1,0,1,1,0,0,1,1,1,1,0,1,0,0,1,0,1,1,1,0,0,1,1,0,1,0,0,0,0,0,1,1,0,0,0,1,1,1,1,0,0,0,1,0,0,1,0,1,1,0,1,1,1,1,0,0,0,1,1,1,0,1,1,1,0,1,1,0,0,0,1,1,1,1,0,0,1,1,0,0,1,1,1,0,1,1,1,1,1,1,1,1,1,1,0,0,1,1,1,0,1,1,1,0,0,0,1,0,1,1,0,545\n",
      "Thebes,64,9,18,1,2,37,62,15,19,0,0,46,1,0,0,1,2,1,4,1,26,0,3,1,0,0,0,2,0,17,8,0,1,0,1,2,2,0,0,1,0,0,8,0,0,0,0,0,0,1,0,0,0,0,0,0,0,0,0,0,2,1,0,0,3,0,0,0,2,0,3,1,0,0,0,0,0,0,0,0,1,0,0,0,0,0,0,0,0,2,0,0,0,0,0,0,0,1,0,0,0,0,0,0,0,1,0,0,0,0,0,0,0,0,0,1,0,0,0,0,0,0,1,0,0,0,0,0,0,0,0,0,0,0,0,0,0,0,0,0,0,0,0,0,0,0,0,0,0,0,0,0,0,0,0,0,0,0,1,1,0,0,0,0,0,0,0,0,0,0,0,0,0,0,0,0,0,1,1,0,0,0,0,0,0,0,0,0,0,0,0,0,0,0,0,0,0,0,0,0,0,0,0,0,0,0,0,0,0,0,0,0,0,0,379\n",
      "Mycenae,28,3,2,5,12,6,11,4,2,0,0,3,0,0,3,0,1,0,0,0,2,4,2,1,1,0,0,0,0,1,0,0,0,0,2,0,1,0,1,0,0,1,0,1,0,0,0,0,0,0,0,0,1,0,0,0,0,1,0,0,1,0,0,0,0,0,0,0,0,0,0,0,0,0,0,0,0,0,0,0,0,0,0,0,0,0,0,0,0,0,0,0,0,0,0,0,0,0,0,0,0,0,0,0,0,0,0,0,0,0,0,0,0,0,0,0,0,0,0,0,0,0,0,0,0,0,0,0,0,0,0,0,0,0,0,0,0,0,0,0,0,0,0,0,0,0,0,0,0,0,0,0,0,0,0,0,0,0,0,0,0,0,0,0,0,0,0,0,0,0,0,0,0,0,0,0,0,0,0,0,0,0,0,0,0,0,0,0,0,0,0,0,0,0,0,0,0,0,0,0,0,0,0,0,0,0,0,0,0,0,0,0,0,0,100\n",
      "Tiryns,0,0,0,0,0,0,0,0,0,0,0,0,0,0,0,0,0,0,0,0,0,0,0,0,0,0,0,0,0,0,0,0,0,0,0,0,0,1,0,0,0,0,0,0,0,0,1,0,0,0,0,0,0,0,0,0,0,0,0,0,0,0,0,0,0,0,0,0,0,0,0,0,0,0,0,0,0,0,0,0,0,0,0,0,0,0,0,0,0,0,0,0,0,0,0,0,0,0,0,0,0,0,0,0,0,0,0,0,0,0,0,0,0,0,0,0,0,0,0,0,0,0,0,0,0,0,0,0,0,0,0,0,0,0,0,0,0,0,0,0,0,0,0,0,0,0,0,0,0,0,0,0,0,0,0,0,0,0,0,0,0,0,0,0,0,0,0,0,0,0,0,0,0,0,0,0,0,0,0,0,0,0,0,0,0,0,0,0,0,0,0,0,0,0,0,0,0,0,0,0,0,0,0,0,0,0,0,0,0,0,0,0,0,0,2\n",
      "Midea,0,0,0,0,0,0,0,0,0,0,0,0,0,0,0,0,0,0,0,0,0,0,0,0,0,0,0,0,0,0,0,0,0,0,0,0,0,0,0,0,0,0,0,0,0,0,0,0,0,0,0,0,0,0,0,0,0,0,0,0,0,0,0,0,0,0,0,0,0,0,0,0,0,0,0,0,0,0,0,0,0,0,0,0,0,0,0,0,0,0,0,0,0,0,0,0,0,0,0,0,0,0,0,0,0,0,1,0,0,0,0,0,0,0,0,0,0,0,0,0,0,0,0,0,0,0,0,0,0,0,0,0,0,0,0,0,0,0,0,0,0,0,0,0,0,0,0,0,0,0,0,0,0,0,0,0,0,0,0,0,0,0,0,0,0,0,0,0,0,0,0,0,0,0,0,0,0,0,0,0,0,0,0,0,0,0,0,0,0,0,0,0,0,0,0,0,0,0,0,0,0,0,0,0,0,0,0,0,0,0,0,0,0,0,1\n",
      "Total,168,158,136,105,103,101,88,85,67,58,56,56,53,52,45,42,42,39,37,36,34,32,30,28,22,21,21,20,20,20,18,17,17,15,14,14,13,13,13,10,10,9,9,8,8,8,8,8,8,7,7,6,6,6,6,6,5,5,5,5,5,5,5,5,5,4,4,4,4,4,4,4,4,4,4,4,3,3,3,3,3,3,3,3,3,3,3,3,3,3,3,3,2,2,2,2,2,2,2,2,2,2,2,2,2,2,2,2,2,2,1,1,1,1,1,1,1,1,1,1,1,1,1,1,1,1,1,1,1,1,1,1,1,1,1,1,1,1,1,1,1,1,1,1,1,1,1,1,1,1,1,1,1,1,1,1,1,1,1,1,1,1,1,1,1,1,1,1,1,1,1,1,1,1,1,1,1,1,1,1,1,1,1,1,1,1,1,1,1,1,1,1,1,1,1,1,1,1,1,1,1,1,1,1,1,1,1,1,1,1,1,1,1,1,\n"
     ]
    }
   ],
   "source": [
    "import json\n",
    "from functools import reduce\n",
    "import re\n",
    "\n",
    "json_file = open('LinearBInscriptions.js')\n",
    "inscriptions = json.load(json_file)\n",
    "\n",
    "n = 214\n",
    "fs_per_s = [[0] * n for i in range(n)]\n",
    "sites_found = []\n",
    "fractions_found = []\n",
    "\n",
    "for info in inscriptions:\n",
    "    inscription = info[1]\n",
    "    words = inscription[\"words\"]\n",
    "    site = inscription[\"findLocation\"].split(\":\")[0].strip()\n",
    "    cf = None\n",
    "    for word in words:\n",
    "        word = re.sub(\"(\\[|\\]|\\n)\", \"\", word)\n",
    "        if word in lb_fractions:\n",
    "            cf = word\n",
    "            continue\n",
    "        if not cf:\n",
    "            continue\n",
    "        if not site in sites_found:\n",
    "            sites_found.append(site)\n",
    "        s_index = sites_found.index(site)\n",
    "        \n",
    "        f = cf + ' ' + word\n",
    "        if f not in fractions_found:\n",
    "            fractions_found.append(f)\n",
    "        f_index = fractions_found.index(f)\n",
    "        \n",
    "        fs_per_s[s_index][f_index] += 1\n",
    "        \n",
    "        cf = None\n",
    "\n",
    "# Print fractions per site in descending order of total\n",
    "fs_per_s = list(zip(range(len(fs_per_s)), fs_per_s))\n",
    "fs_per_s = sorted(fs_per_s, key= lambda x: sum(x[1]), reverse=True)\n",
    "totals = reduce(lambda x,y: [a + b for a, b in zip(x,y)], [z[1] for z in fs_per_s])\n",
    "totals = list(zip(range(len(totals)), totals))\n",
    "totals = sorted(totals, key = lambda x: x[1], reverse=True)\n",
    "\n",
    "print(\",\" + ','.join(fractions_found[i] for i, total in totals) + \",Total\")\n",
    "for i, (old_i, fractions) in enumerate(fs_per_s):\n",
    "    if old_i >= len(sites_found):\n",
    "        break\n",
    "    s = sites_found[old_i]\n",
    "    print(s + ',' + ','.join(str(fractions[j]) for j, total in totals) + \",\" + str(sum(fractions)))\n",
    "print(\"Total,\" + ','.join(str(total) for i, total in totals) + ',')\n"
   ]
  },
  {
   "cell_type": "code",
   "execution_count": 24,
   "metadata": {},
   "outputs": [
    {
     "name": "stdout",
     "output_type": "stream",
     "text": [
      ",𐄾,𐄼,𐂎,𐄸,𐄿,𐄽,𐄹,𐄺,𐄷,Total\n",
      "Pylos,242,413,450,284,7,31,83,18,8,1536\n",
      "Knossos,92,94,64,142,23,72,19,37,5,548\n",
      "Thebes,179,27,8,5,139,21,0,0,0,379\n",
      "Mycenae,41,19,6,13,15,7,0,1,0,102\n",
      "Tiryns,0,0,1,1,0,0,0,0,0,2\n",
      "Midea,0,0,1,0,0,0,0,0,0,1\n",
      "Total,554,553,530,445,184,131,102,56,13,\n"
     ]
    }
   ],
   "source": [
    "import json\n",
    "from functools import reduce\n",
    "import re\n",
    "\n",
    "json_file = open('LinearBInscriptions.js')\n",
    "inscriptions = json.load(json_file)\n",
    "\n",
    "n = 9\n",
    "fs_per_s = [[0] * n for i in range(n)]\n",
    "sites_found = []\n",
    "fractions_found = []\n",
    "\n",
    "for info in inscriptions:\n",
    "    inscription = info[1]\n",
    "    words = inscription[\"words\"]\n",
    "    site = inscription[\"findLocation\"].split(\":\")[0].strip()\n",
    "    cf = None\n",
    "    for word in words:\n",
    "        word = re.sub(\"(\\[|\\]|\\n)\", \"\", word)\n",
    "        if word not in lb_fractions:\n",
    "            continue\n",
    "        if not site in sites_found:\n",
    "            sites_found.append(site)\n",
    "        s_index = sites_found.index(site)\n",
    "        \n",
    "        f = word\n",
    "        if f not in fractions_found:\n",
    "            fractions_found.append(f)\n",
    "        f_index = fractions_found.index(f)\n",
    "        \n",
    "        fs_per_s[s_index][f_index] += 1\n",
    "        \n",
    "        cf = None\n",
    "\n",
    "# Print fractions per site in descending order of total\n",
    "fs_per_s = list(zip(range(len(fs_per_s)), fs_per_s))\n",
    "fs_per_s = sorted(fs_per_s, key= lambda x: sum(x[1]), reverse=True)\n",
    "totals = reduce(lambda x,y: [a + b for a, b in zip(x,y)], [z[1] for z in fs_per_s])\n",
    "totals = list(zip(range(len(totals)), totals))\n",
    "totals = sorted(totals, key = lambda x: x[1], reverse=True)\n",
    "\n",
    "print(\",\" + ','.join(fractions_found[i] for i, total in totals) + \",Total\")\n",
    "for i, (old_i, fractions) in enumerate(fs_per_s):\n",
    "    if old_i >= len(sites_found):\n",
    "        break\n",
    "    s = sites_found[old_i]\n",
    "    print(s + ',' + ','.join(str(fractions[j]) for j, total in totals) + \",\" + str(sum(fractions)))\n",
    "print(\"Total,\" + ','.join(str(total) for i, total in totals) + ',')\n"
   ]
  }
 ],
 "metadata": {
  "kernelspec": {
   "display_name": "Python 3",
   "language": "python",
   "name": "python3"
  },
  "language_info": {
   "codemirror_mode": {
    "name": "ipython",
    "version": 3
   },
   "file_extension": ".py",
   "mimetype": "text/x-python",
   "name": "python",
   "nbconvert_exporter": "python",
   "pygments_lexer": "ipython3",
   "version": "3.8.10"
  }
 },
 "nbformat": 4,
 "nbformat_minor": 4
}
