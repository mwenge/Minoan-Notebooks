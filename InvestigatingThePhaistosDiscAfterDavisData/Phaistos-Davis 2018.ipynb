{
 "cells": [
  {
   "cell_type": "markdown",
   "metadata": {},
   "source": [
    "# Recreating the Results in \"The Phaistos Disk: A New Way of Viewing the Language Behind the Script\" (Davis 2018)\n",
    "\n",
    "I use the Linear A corpus at https://lineara.xyz to recreate the results from Brent Davis' paper showing a \n",
    "statistically significant relationship between the bigrams in the Phaistos Disc and Linear A.\n",
    "\n",
    "I find that one bigram identified as common between the two is doubtful. '𐘠𐘚' (TI-I) does not actually appear in Linear A. Where the two syllabograms are adjacent they are not word-internal, i.e. they are in adjacent words rather than the same word:\n",
    "\n",
    "![alt text](PKZa11.png \"Title\")\n",
    "![alt text](PYRWc4.png \"Title\")\n",
    "\n",
    "\n",
    "Another potential source for the identification is the ligatured version of 𐘚(TI) which is 𐘛(*28B). We find a single instance of '𐘠𐘛' (TI-*28B) in the Linear A corpus, in ZA6b:\n",
    "\n",
    "![alt text](ZA6b.png \"Title\")\n",
    "\n",
    "It is not clear to me if it is valid to treat (TI-*28B) as the equivalent of (TI-I). If it is not, then the number of matching bi-grams between the Phaistos disc and the Linear A corpus must be revised down to 16. This no longer falls within the region of statistical significance, which Davis identifies as 16.4 or above.\n"
   ]
  },
  {
   "cell_type": "markdown",
   "metadata": {},
   "source": [
    "## Recreating the Results of Davis 2018\n",
    "First we import the Phaistos Disc inscription. We also initialize a list of symbols from the Phaistos Disc and all known symbols from Linear A."
   ]
  },
  {
   "cell_type": "code",
   "execution_count": 11,
   "metadata": {},
   "outputs": [],
   "source": [
    "import json\n",
    "import itertools as it\n",
    "\n",
    "pd_inscription_a = (\"𐇑𐇛𐇜𐇐𐇡𐇽|𐇧𐇷𐇛|𐇬𐇼𐇖𐇽|𐇬𐇬𐇱|𐇑𐇛𐇓𐇷𐇰|𐇪𐇼𐇖𐇛|𐇪𐇻𐇗|𐇑𐇛𐇕𐇡|𐇮𐇩𐇲|\"\n",
    "                \"𐇑𐇛𐇸𐇢𐇲|𐇐𐇸𐇷𐇖|𐇑𐇛𐇯𐇦𐇵𐇽|𐇶𐇚|𐇑𐇪𐇨𐇙𐇦𐇡|𐇫𐇐𐇽|𐇑𐇛𐇮𐇩𐇽|𐇑𐇛𐇪𐇪𐇲𐇴𐇤|𐇰𐇦|\"\n",
    "                \"𐇑𐇛𐇮𐇩𐇽|𐇑𐇪𐇨𐇙𐇦𐇡|𐇫𐇐𐇽|𐇑𐇛𐇮𐇩𐇽|𐇑𐇛𐇪𐇝𐇯𐇡𐇪|𐇕𐇡𐇠𐇢|𐇮𐇩𐇛|𐇑𐇛𐇜𐇐|𐇦𐇢𐇲𐇽|𐇙𐇒𐇵|𐇑𐇛𐇪𐇪𐇲𐇴𐇤|𐇜𐇐|𐇙𐇒𐇵|\")\n",
    "pd_words_a = pd_inscription_a.split('|')\n",
    "\n",
    "pd_inscription_b = (\"𐇑𐇛𐇥𐇷𐇖|𐇪𐇼𐇖𐇲|𐇑𐇴𐇦𐇔𐇽|𐇥𐇨𐇪|𐇰𐇧𐇣𐇛|𐇟𐇦𐇡𐇺𐇽|𐇜𐇐𐇶𐇰|𐇞𐇖𐇜𐇐𐇡|𐇥𐇴𐇹𐇨|\"\n",
    "                    \"𐇖𐇧𐇷𐇲|𐇑𐇩𐇳𐇷|𐇪𐇨𐇵𐇐|𐇬𐇧𐇧𐇣𐇲|𐇟𐇝𐇡|𐇬𐇰𐇐|𐇕𐇲𐇯𐇶𐇰|𐇑𐇘𐇪𐇐|𐇬𐇳\"\n",
    "                    \"𐇖𐇗𐇽|𐇬𐇗𐇜|𐇬𐇼𐇖𐇽|𐇥𐇬𐇳𐇖𐇗𐇽|𐇪𐇱𐇦𐇨|𐇖𐇡𐇲|𐇖𐇼𐇖𐇽|𐇖𐇦𐇡𐇧|𐇥𐇬𐇳𐇖𐇗𐇽|𐇘𐇭𐇶𐇡𐇖|𐇑𐇕𐇲𐇦𐇖|𐇬𐇱𐇦𐇨|𐇼𐇖𐇽|\")\n",
    "pd_words_b = pd_inscription_b.split('|')\n",
    "\n",
    "pd_inscription = pd_inscription_a + pd_inscription_b\n",
    "pd_words = pd_inscription.replace('𐇽','').split('|')\n",
    "\n",
    "pd_symbols = [\"𐇐\", \"𐇑\", \"𐇒\", \"𐇓\", \"𐇔\", \"𐇕\", \"𐇖\", \"𐇗\", \"𐇘\", \"𐇙\", \"𐇚\", \n",
    "    \"𐇛\", \"𐇜\", \"𐇝\", \"𐇞\", \"𐇟\", \"𐇠\", \"𐇡\", \"𐇢\", \"𐇣\", \"𐇤\", \"𐇥\", \"𐇦\", \"𐇧\", \"𐇨\", \"𐇩\", \"𐇪\", \"𐇫\", \"𐇬\", \"𐇭\", \"𐇮\", \"𐇯\"\n",
    "    , \"𐇰\", \"𐇱\", \"𐇲\", \"𐇳\", \"𐇴\", \"𐇵\", \"𐇶\", \"𐇷\", \"𐇸\", \"𐇹\", \"𐇺\", \"𐇻\", \"𐇼\"]\n",
    "\n",
    "la_symbols = [\"𐄂\", \"𐘀\", \"𐘁\", \"𐘂\", \"𐘃\", \"𐘄\", \"𐘅\", \"𐘆\", \"𐘇\", \"𐘈\", \"𐘉\", \"𐘊\", \"𐘋\", \"𐘌\", \"𐘍\", \"𐘎\", \n",
    "    \"𐘏\", \"𐘐\", \"𐘑\", \"𐘒\", \"𐘓\", \"𐘔\", \"𐘕\", \"𐘖\", \"𐘗\", \"𐘘\", \"𐘙\", \"𐘚\", \"𐘛\", \"𐘜\", \"𐘝\", \"𐘞\",\n",
    "    \"𐘟\", \"𐘠\", \"𐘡\", \"𐘢\", \"𐘣\", \"𐘤\", \"𐘥\", \"𐘦\", \"𐘧\", \"𐘨\", \"𐘩\", \"𐘪\", \"𐘫\", \"𐘬\", \"𐘭\", \"𐘮\",\n",
    "    \"𐘯\", \"𐘰\", \"𐘱\", \"𐘲\", \"𐘳\", \"𐘴\", \"𐘵\", \"𐘶\", \"𐘷\", \"𐘸\", \"𐘹\", \"𐘺\", \"𐘻\", \"𐘼\", \"𐘽\", \"𐘾\",\n",
    "    \"𐘿\", \"𐙀\", \"𐙁\", \"𐙂\", \"𐙃\", \"𐙄\", \"𐙅\", \"𐙆\", \"𐙇\", \"𐙈\", \"𐙉\", \"𐙊\", \"𐙋\", \"𐙌\", \"𐙍\", \n",
    "    \"𐙎\", \"𐙏\", \"𐙐\", \"𐙑\", \"𐙒\", \"𐙓\", \"𐙔\", \"𐙕\", \"𐙖\", \"𐙗\", \"𐙘\", \"𐙙\", \"𐙚\", \"𐙛\", \"𐙜\", \"𐙝\", \n",
    "    \"𐙞\", \"𐙟\", \"𐙠\", \"𐙡\", \"𐙢\", \"𐙣\", \"𐙤\", \"𐙥\", \"𐙦\", \"𐙧\", \"𐙨\", \"𐙩\", \"𐙪\", \"𐙫\", \"𐙬\", \"𐙭\",\n",
    "    \"𐙮\", \"𐙯\", \"𐙰\", \"𐙱\", \"𐙲\", \"𐙳\", \"𐙴\", \"𐙵\", \"𐙶\", \"𐙷\", \"𐙸\", \"𐙹\", \"𐙺\", \"𐙻\", \"𐙼\", \"𐙽\",\n",
    "    \"𐙾\", \"𐙿\", \"𐚀\", \"𐚁\", \"𐚂\", \"𐚃\", \"𐚄\", \"𐚅\", \"𐚆\", \"𐚇\", \"𐚈\", \"𐚉\", \"𐚊\", \"𐚋\", \"𐚌\", \"𐚍\",\n",
    "    \"𐚎\", \"𐚏\", \"𐚐\", \"𐚑\", \"𐚒\", \"𐚓\", \"𐚔\", \"𐚕\", \"𐚖\", \"𐚗\", \"𐚘\", \"𐚙\", \"𐚚\", \"𐚛\", \"𐚜\", \n",
    "    \"𐚝\", \"𐚞\", \"𐚟\", \"𐚠\", \"𐚡\", \"𐚢\", \"𐚣\", \"𐚤\", \"𐚥\", \"𐚦\", \"𐚧\", \"𐚨\", \"𐚩\", \"𐚪\", \"𐚫\", \"𐚬\", \n",
    "    \"𐚭\", \"𐚮\", \"𐚯\", \"𐚰\", \"𐚱\", \"𐚲\", \"𐚳\", \"𐚴\", \"𐚵\", \"𐚶\", \"𐚷\", \"𐚸\", \"𐚹\", \"𐚺\", \"𐚻\", \"𐚼\",\n",
    "    \"𐚽\", \"𐚾\", \"𐚿\", \"𐛀\", \"𐛁\", \"𐛂\", \"𐛃\", \"𐛄\", \"𐛅\", \"𐛆\", \"𐛇\", \"𐛈\", \"𐛉\", \"𐛊\", \"𐛋\", \"𐛌\",\n",
    "    \"𐛍\", \"𐛎\", \"𐛏\", \"𐛐\", \"𐛑\", \"𐛒\", \"𐛓\", \"𐛔\", \"𐛕\", \"𐛖\", \"𐛗\", \"𐛘\", \"𐛙\", \"𐛚\", \"𐛛\", \"𐛜\",\n",
    "    \"𐛝\", \"𐛞\", \"𐛟\", \"𐛠\", \"𐛡\", \"𐛢\", \"𐛣\", \"𐛤\", \"𐛥\", \"𐛦\", \"𐛧\", \"𐛨\", \"𐛩\", \"𐛪\", \"𐛫\", \n",
    "    \"𐛬\", \"𐛭\", \"𐛮\", \"𐛯\", \"𐛰\", \"𐛱\", \"𐛲\", \"𐛳\", \"𐛴\", \"𐛵\", \"𐛶\", \"𐛷\", \"𐛸\", \"𐛹\", \"𐛺\", \"𐛻\", \n",
    "    \"𐛼\", \"𐛽\", \"𐛾\", \"𐛿\", \"𐜀\", \"𐜁\", \"𐜂\", \"𐜃\", \"𐜄\", \"𐜅\", \"𐜆\", \"𐜇\", \"𐜈\", \"𐜉\", \"𐜊\", \"𐜋\",\n",
    "    \"𐜌\", \"𐜍\", \"𐜎\", \"𐜏\", \"𐜐\", \"𐜑\", \"𐜒\", \"𐜓\", \"𐜔\", \"𐜕\", \"𐜖\", \"𐜗\", \"𐜘\", \"𐜙\", \"𐜚\", \"𐜛\",\n",
    "    \"𐜜\", \"𐜝\", \"𐜞\", \"𐜟\", \"𐜠\", \"𐜡\", \"𐜢\", \"𐜣\", \"𐜤\", \"𐜥\", \"𐜦\", \"𐜧\", \"𐜨\", \"𐜩\", \"𐜪\", \"𐜫\",\n",
    "    \"𐜬\", \"𐜭\", \"𐜮\", \"𐜯\", \"𐜰\", \"𐜱\", \"𐜲\", \"𐜳\", \"𐜴\", \"𐜵\", \"𐜶\", \"𐝀\", \"𐝁\", \"𐝂\", \"𐝃\", \n",
    "    \"𐝄\", \"𐝅\", \"𐝆\", \"𐝇\", \"𐝈\", \"𐝉\", \"𐝊\", \"𐝋\", \"𐝌\", \"𐝍\", \"𐝎\", \"𐝏\", \"𐝐\", \"𐝑\", \"𐝒\", \"𐝓\", \n",
    "    \"𐝔\", \"𐝕\", \"𐝠\", \"𐝡\", \"𐝢\", \"𐝣\", \"𐝤\", \"𐝥\", \"𐝦\", \"𐝧\", \"𐝬\", \"𐝭\", \"𐝮\", \"𐝯\"]"
   ]
  },
  {
   "cell_type": "markdown",
   "metadata": {},
   "source": [
    "Next we import all known words from Linear A into a list called `la_words`."
   ]
  },
  {
   "cell_type": "code",
   "execution_count": 7,
   "metadata": {},
   "outputs": [],
   "source": [
    "json_file = open('../Data/LinearAWords.json')\n",
    "inscriptions = json.load(json_file)\n",
    "\n",
    "la_words = []\n",
    "for inscription in inscriptions:\n",
    "    word_tags = inscription[\"tagsForWords\"]\n",
    "\n",
    "    for index, word_tag in enumerate(word_tags):\n",
    "        tags = word_tag[\"tags\"]\n",
    "        if \"word\" not in tags:\n",
    "            continue\n",
    "        word = word_tag[\"word\"].replace('\\U0001076b', '')\n",
    "        if len(word) == 1:\n",
    "            continue\n",
    "        la_words.append(word)\n",
    "la_words = list(set(la_words))\n"
   ]
  },
  {
   "cell_type": "markdown",
   "metadata": {},
   "source": [
    "Now we can create lists of unique bigrams in Linear A and the Phaistos disc."
   ]
  },
  {
   "cell_type": "code",
   "execution_count": 13,
   "metadata": {
    "scrolled": false
   },
   "outputs": [
    {
     "name": "stdout",
     "output_type": "stream",
     "text": [
      "\n",
      "Linear A:\n",
      "Unique bigrams 1170 Total bigrams 2036\n",
      "Unique symbols in bigrams 168\n",
      "\n",
      "Phaistos Disc:\n",
      "Unique bigrams 115 Total bigrams 180\n",
      "Unique symbols in bigrams 45\n"
     ]
    }
   ],
   "source": [
    "\n",
    "def getNgrams(words, n):\n",
    "    ngrams = []\n",
    "    for word in words:\n",
    "        bg = [word[i:i+n] for i in range(0, len(word) - (n-1))]\n",
    "        ngrams.extend(bg)\n",
    "    return ngrams\n",
    "\n",
    "la_bigrams, pd_bigrams, pd_trigrams, la_trigrams = [], [], [], []\n",
    "ngram_infos = [\n",
    "    [la_bigrams, \"bi\", 2, la_words, \"Linear A\"],\n",
    "    [pd_bigrams, \"bi\", 2, pd_words, \"Phaistos Disc\"],\n",
    "]\n",
    "\n",
    "for ngram_info in ngram_infos:\n",
    "    ngram = ngram_info[0]\n",
    "    prefix = ngram_info[1]\n",
    "    n = ngram_info[2]\n",
    "    words = ngram_info[3]\n",
    "    name = ngram_info[4]\n",
    "    \n",
    "    ngram_info[0] = getNgrams(words, n)\n",
    "    ngram = ngram_info[0]\n",
    "    print(\"\\n\" + name + \":\")\n",
    "    print(\"Unique \" + prefix + \"grams\", len(set(ngram)), \n",
    "          \"Total \" + prefix + \"grams\", len(ngram))\n",
    "    print(\"Unique symbols in \" + prefix + \"grams\",\n",
    "          len(set(list(it.chain.from_iterable(ngram)))))\n",
    "\n",
    "la_bigrams = ngram_infos[0][0]\n",
    "pd_bigrams = ngram_infos[1][0]\n",
    "\n"
   ]
  },
  {
   "cell_type": "markdown",
   "metadata": {},
   "source": [
    "With these we now have what we need to rerun Davis' analysis comparing the bigrams that appear in both Linear A and the disc.\n",
    "\n",
    "Davis gives the homomorphs used for his analysis as follows:\n",
    "![alt text](14homomorphs.png \"Title\")\n",
    "\n",
    "We implement the same here:"
   ]
  },
  {
   "cell_type": "code",
   "execution_count": null,
   "metadata": {},
   "outputs": [],
   "source": [
    "# Brent Davis 2018 mapping\n",
    "pd_la_strong_map = {\n",
    "\"𐇛\": \"𐘿\",  \n",
    "\"𐇬\": \"𐙁\",  \n",
    "\"𐇼\": \"𐘽\", \n",
    "\"𐇖\": \"𐘠\",  \n",
    "\"𐇱\": \"𐘢\",  \n",
    "\"𐇗\": \"𐘚\",  \n",
    "\"𐇮\": \"𐙂\",  \n",
    "\"𐇲\": \"𐘃\",  \n",
    "\"𐇢\": \"𐘀\",  \n",
    "\"𐇦\": \"𐘅\",  \n",
    "\"𐇨\": \"𐙅\",  \n",
    "\"𐇥\": \"𐘞\",  \n",
    "\"𐇟\": \"𐘸\", \n",
    "\"𐇳\": \"𐘝\",  \n",
    "}\n"
   ]
  },
  {
   "cell_type": "markdown",
   "metadata": {},
   "source": [
    "Now we see if we can get the same number of bigrams as Davis in the disc:"
   ]
  },
  {
   "cell_type": "code",
   "execution_count": 5,
   "metadata": {},
   "outputs": [
    {
     "name": "stdout",
     "output_type": "stream",
     "text": [
      "23 bigrams ['𐘀𐘃', '𐘃𐘅', '𐘅𐘀', '𐘅𐘠', '𐘅𐙅', '𐘝𐘠', '𐘞𐙁', '𐘞𐙅', '𐘠𐘃', '𐘠𐘅', '𐘠𐘚', '𐘠𐘽', '𐘠𐘿', '𐘢𐘅', '𐘸𐘅', '𐘽𐘠', '𐘿𐘞', '𐘿𐙂', '𐙁𐘚', '𐙁𐘝', '𐙁𐘢', '𐙁𐘽', '𐙁𐙁']\n"
     ]
    }
   ],
   "source": [
    "\n",
    "\n",
    "# Use the provisional PD to LA mapping above to find common bigrams between LA and the Disc\n",
    "pd_inscription_as_la = list(map(lambda x: pd_la_strong_map[x] if x in pd_la_strong_map else x, pd_inscription))\n",
    "pd_inscription_as_la_words = ''.join(pd_inscription_as_la).split('|')\n",
    "pd_la_bigrams = getNgrams(pd_inscription_as_la_words,2)\n",
    "\n",
    "pd_bigrams_both = set([bg for bg in pd_la_bigrams if all(g in pd_la_strong_map.values() for g in bg)])\n",
    "print(str(len(pd_bigrams_both)) + \" bigrams\", sorted(pd_bigrams_both))\n"
   ]
  },
  {
   "cell_type": "markdown",
   "metadata": {},
   "source": [
    "This matches the 23 bigrams given in Table 40 by Davis:\n",
    "    \n",
    "![alt text](23pairs.png \"Title\")\n"
   ]
  },
  {
   "cell_type": "markdown",
   "metadata": {},
   "source": [
    "No we can count the number of pairs that match between Linear A and the disc."
   ]
  },
  {
   "cell_type": "code",
   "execution_count": 8,
   "metadata": {},
   "outputs": [
    {
     "name": "stdout",
     "output_type": "stream",
     "text": [
      "Mapped bigrams that actually appear in Linear A\n",
      " 16 instances\n",
      " 30 occurences in Linear A\n",
      " 30 occurences in Phaistos Disc\n",
      " [('𐘀𐘃', 2, 2), ('𐘅𐘀', 1, 1), ('𐘅𐘠', 4, 1), ('𐘝𐘠', 1, 3), ('𐘞𐙁', 3, 2), ('𐘠𐘃', 1, 1), ('𐘠𐘅', 2, 1), ('𐘠𐘽', 2, 1), ('𐘢𐘅', 2, 2), ('𐘸𐘅', 2, 1), ('𐘽𐘠', 1, 6), ('𐘿𐙂', 1, 3), ('𐙁𐘚', 5, 1), ('𐙁𐘢', 1, 2), ('𐙁𐘽', 1, 2), ('𐙁𐙁', 1, 1)]\n"
     ]
    }
   ],
   "source": [
    "bg_both = sorted([(bg, la_bigrams.count(bg), pd_la_bigrams.count(bg)) \n",
    "                  for bg in pd_bigrams_both & set(la_bigrams)])\n",
    "print(\"Mapped bigrams that actually appear in Linear A\\n\", \n",
    "      \"%d instances\\n\" % len(bg_both), \n",
    "      \"%s occurences in Linear A\\n\" % sum([b for a,b,c in bg_both]),\n",
    "      \"%s occurences in Phaistos Disc\\n\" % sum([c for a,b,c in bg_both]),\n",
    "      bg_both)\n",
    "\n"
   ]
  },
  {
   "cell_type": "markdown",
   "metadata": {},
   "source": [
    "Our output also gives the number of occurences of the bigrams in each of Linear A and the Disc, both as a total for all bigrams and for each bigram individually. So for '𐘸𐘅' we find that it occurs twice in Linear A and once on the Phaistos Disc, i.e.: ('𐘸𐘅', 2, 1).\n",
    "\n",
    "\n"
   ]
  },
  {
   "cell_type": "markdown",
   "metadata": {},
   "source": [
    "## Reviewing the Results\n",
    "We find only 16 instances of Disc bigrams appearing in Linear A. This is one less than found by Davis. \n",
    "\n",
    "Let's take a look at the ones we think are missing according to our own analysis:"
   ]
  },
  {
   "cell_type": "code",
   "execution_count": 9,
   "metadata": {},
   "outputs": [
    {
     "name": "stdout",
     "output_type": "stream",
     "text": [
      "Mapped bigrams that don't appear in Linear A\n",
      " 7 [('𐘃𐘅', 1), ('𐘅𐙅', 2), ('𐘞𐙅', 1), ('𐘠𐘚', 3), ('𐘠𐘿', 1), ('𐘿𐘞', 1), ('𐙁𐘝', 3)]\n"
     ]
    }
   ],
   "source": [
    "bg_pd_only = pd_bigrams_both - set(la_bigrams)\n",
    "bg_pd_only = sorted([(bg, pd_la_bigrams.count(bg)) \n",
    "                  for bg in bg_pd_only])\n",
    "print(\"Mapped bigrams that don't appear in Linear A\\n\", \n",
    "      len(bg_pd_only), bg_pd_only)"
   ]
  },
  {
   "cell_type": "markdown",
   "metadata": {},
   "source": [
    "We can compare this with the table from (Davis 2018):\n",
    "\n",
    "![alt text](17bigrams.png \"Title\")\n",
    "\n",
    "The difference is the bigram: '𐘠𐘚', (when transliterated: TI-I). \n",
    "\n"
   ]
  }
 ],
 "metadata": {
  "kernelspec": {
   "display_name": "Python 3",
   "language": "python",
   "name": "python3"
  },
  "language_info": {
   "codemirror_mode": {
    "name": "ipython",
    "version": 3
   },
   "file_extension": ".py",
   "mimetype": "text/x-python",
   "name": "python",
   "nbconvert_exporter": "python",
   "pygments_lexer": "ipython3",
   "version": "3.8.5"
  }
 },
 "nbformat": 4,
 "nbformat_minor": 4
}
